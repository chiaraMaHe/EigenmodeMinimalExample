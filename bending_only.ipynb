{
 "cells": [
  {
   "cell_type": "code",
   "execution_count": null,
   "id": "6d166a17",
   "metadata": {},
   "outputs": [],
   "source": [
    "from IPython.display import display, Math\n",
    "import numpy as np\n",
    "import sympy as sp\n",
    "import matplotlib.pyplot as plt"
   ]
  },
  {
   "cell_type": "markdown",
   "id": "f5a61324",
   "metadata": {},
   "source": [
    "# Eigenvectors of the stiffness matrix in limit state problems\n",
    "[Dominik Kern](https://orcid.org/0000-0002-1958-2982),\n",
    "[Chiara Hergl](https://orcid.org/0000-0002-4016-9113),\n",
    "[Thomas Nagel](https://orcid.org/0000-0001-8459-4616)\n",
    "# Minimal Example of Beam Buckling with Bending only\n",
    "In this formulation the axial force $F$ is a parameter in the stiffness matrix $\\mathbf{C}$."
   ]
  },
  {
   "cell_type": "markdown",
   "id": "a60ae255-ba53-4b57-ada2-62851b2eea78",
   "metadata": {},
   "source": [
    "![Euler buckling case 2](euler_buckling.svg)\n",
    "**TODO** remove $u$ from figure"
   ]
  },
  {
   "cell_type": "markdown",
   "id": "31f97249",
   "metadata": {},
   "source": [
    "Non-dimensional potential energy for beam bending (transversal displacement $w$) with axial force $F$ and stabilizing spring (stiffness $c$)    \n",
    "$\\Pi = \\frac{1}{2}\\int_0^1 w''(x)^2 -F w'^2 \\mathrm{d}x +\\frac{1}{2}cw\\left(\\frac{1}{2}\\right)^2$\n",
    "\n",
    "with following relations to the dimensional variables \n",
    "- $F = \\dfrac{F_\\mathrm{dim}}{F_\\mathrm{ref}}$,\n",
    "- $c = \\dfrac{c_\\mathrm{dim}l}{F_\\mathrm{ref}}$\n",
    "with $F_\\mathrm{ref} = \\dfrac{EI}{l^2}$.\n",
    "\n",
    "Ritz' method with buckling mode shapes $w_k=\\sin\\bigl(k\\pi x \\bigr)$ leads to $k$th buckling load \n",
    "$F_k = (k\\pi)^2+\\frac{2c}{(k\\pi)^2}\\sin^2\\left(\\frac{k\\pi}{2}\\right)$. "
   ]
  },
  {
   "cell_type": "markdown",
   "id": "57aa2537",
   "metadata": {},
   "source": [
    "## Symbolic calculations"
   ]
  },
  {
   "cell_type": "markdown",
   "id": "13bc65da",
   "metadata": {},
   "source": [
    "Apply Ritz discretization with two DoF and evaluate first variation of potential energy"
   ]
  },
  {
   "cell_type": "code",
   "execution_count": null,
   "id": "98d284af",
   "metadata": {},
   "outputs": [],
   "source": [
    "x, X, k, c, F, W1, W2, dW1, dW2  = sp.symbols('x X k c F W1 W2 dW1 dW2')"
   ]
  },
  {
   "cell_type": "code",
   "execution_count": null,
   "id": "ad01bab2",
   "metadata": {},
   "outputs": [],
   "source": [
    "w = sp.sin(k*sp.pi*x) \n",
    "\n",
    "W = W1*w.subs(k,1) + W2*w.subs(k,2)\n",
    "Wx = W.diff(x)\n",
    "Wxx = Wx.diff(x)\n",
    "\n",
    "dW = dW1*w.subs(k,1) + dW2*w.subs(k,2)\n",
    "dWx = dW.diff(x)\n",
    "dWxx = dWx.diff(x)\n",
    "\n",
    "dPi = sp.integrate(Wxx*dWxx - F*Wx*dWx, (x,0,1) ) + c*W.subs(x,X)*dW.subs(x,X)\n",
    "display(dPi)"
   ]
  },
  {
   "cell_type": "markdown",
   "id": "a1b65e0a",
   "metadata": {},
   "source": [
    "Generalized forces"
   ]
  },
  {
   "cell_type": "code",
   "execution_count": null,
   "id": "1bb751e7",
   "metadata": {},
   "outputs": [],
   "source": [
    "Q1 = sp.simplify(dPi.diff(W1))\n",
    "display(Math(f'Q_1 = {sp.latex(Q1)}'))\n",
    "Q2 = sp.simplify(dPi.diff(W2))\n",
    "display(Math(f'Q_2 = {sp.latex(Q2)}'))"
   ]
  },
  {
   "cell_type": "markdown",
   "id": "a2d33cf5",
   "metadata": {},
   "source": [
    "Stiffness matrix (symmetric, remember $\\sin(2x)=2\\sin(x)\\cos(x)$ )"
   ]
  },
  {
   "cell_type": "code",
   "execution_count": null,
   "id": "dd3d8945",
   "metadata": {},
   "outputs": [],
   "source": [
    "C11 = sp.expand(Q1).coeff(dW1, 1)\n",
    "display(C11)\n",
    "C12 = sp.expand(Q1).coeff(dW2, 1)\n",
    "display(C12)\n",
    "C21 = sp.expand(Q2).coeff(dW1, 1)\n",
    "display(C21)\n",
    "C22 = sp.expand(Q2).coeff(dW2, 1)\n",
    "display(C22)\n",
    "\n",
    "C = sp.Matrix(((C11, C12), (C21, C22)))\n",
    "display(Math(f'C = {sp.latex(C)}'))"
   ]
  },
  {
   "cell_type": "markdown",
   "id": "5ff120e5",
   "metadata": {},
   "source": [
    "Buckling occurs when determinant of stiffness matrix vanishes"
   ]
  },
  {
   "cell_type": "code",
   "execution_count": null,
   "id": "072121d6",
   "metadata": {},
   "outputs": [],
   "source": [
    "char_eq = sp.simplify(sp.Determinant(C).doit())\n",
    "buckling_load = sp.solve(char_eq, F)\n",
    "F1 = sp.simplify(buckling_load[0])\n",
    "F2 = sp.simplify(buckling_load[1])\n",
    "display(Math(f'F_1 = {sp.latex(F1)}'))\n",
    "display(Math(f'F_2 = {sp.latex(F2)}'))"
   ]
  },
  {
   "cell_type": "markdown",
   "id": "523ec5a1",
   "metadata": {},
   "source": [
    "Eigenvector from first line (same result from second)"
   ]
  },
  {
   "cell_type": "code",
   "execution_count": null,
   "id": "00e4cdf1",
   "metadata": {},
   "outputs": [],
   "source": [
    "Cabs = sp.simplify(sp.sqrt(C11**2 + C12**2)) \n",
    "\n",
    "w1_ev1   = sp.simplify( C12.subs(F, F1))\n",
    "w2_ev1   = sp.simplify(-C11.subs(F, F1))\n",
    "wabs_ev1 = sp.simplify(Cabs.subs(F, F1))\n",
    "\n",
    "w1_ev2   = sp.simplify( C12.subs(F, F2))\n",
    "w2_ev2   = sp.simplify(-C11.subs(F, F2))\n",
    "wabs_ev2 = sp.simplify(Cabs.subs(F, F2))\n",
    "\n",
    "# same result from second line\n",
    "#Cabs = sp.simplify(sp.sqrt(C21**2 + C22**2)) \n",
    "\n",
    "#w1_ev1   = sp.simplify( C22.subs(F, F1))\n",
    "#w2_ev1   = sp.simplify(-C21.subs(F, F1))\n",
    "#wabs_ev1 = sp.simplify(Cabs.subs(F, F1))\n",
    "\n",
    "#w1_ev2   = sp.simplify( C22.subs(F, F2))\n",
    "#w2_ev2   = sp.simplify(-C21.subs(F, F2))\n",
    "#wabs_ev2 = sp.simplify(Cabs.subs(F, F2))"
   ]
  },
  {
   "cell_type": "code",
   "execution_count": null,
   "id": "0ba78d91",
   "metadata": {},
   "outputs": [],
   "source": [
    "w1_ev1_num   = sp.lambdify((X, c), w1_ev1, modules='numpy') \n",
    "w2_ev1_num   = sp.lambdify((X, c), w2_ev1, modules='numpy') \n",
    "wabs_ev1_num = sp.lambdify((X, c), wabs_ev1, modules='numpy') \n",
    "w1_ev2_num   = sp.lambdify((X, c), w1_ev2, modules='numpy') \n",
    "w2_ev2_num   = sp.lambdify((X, c), w2_ev2, modules='numpy') \n",
    "wabs_ev2_num = sp.lambdify((X, c), wabs_ev2, modules='numpy') "
   ]
  },
  {
   "cell_type": "markdown",
   "id": "bfacc7e9",
   "metadata": {},
   "source": [
    "Evaluate discriminant to find spring stiffness when both buckling loads share the same value"
   ]
  },
  {
   "cell_type": "code",
   "execution_count": null,
   "id": "b34c4486",
   "metadata": {},
   "outputs": [],
   "source": [
    "char_eqF = char_eq.diff(F)\n",
    "F_ex = sp.solve(char_eqF,F)\n",
    "char_eq_ex = sp.simplify(char_eq.subs(F,F_ex[0]))\n",
    "display(Math(f'0 = {sp.latex(char_eq_ex)}'))\n",
    "c_double = sp.solve(char_eq_ex, c)\n",
    "cm = sp.simplify(c_double[0])\n",
    "cp = sp.simplify(c_double[1])\n",
    "display(Math(f'c_m = {sp.latex(cm)}'))\n",
    "display(Math(f'c_p = {sp.latex(cp)}'))"
   ]
  },
  {
   "cell_type": "markdown",
   "id": "35b55230",
   "metadata": {},
   "source": [
    "## Numerical evaluations"
   ]
  },
  {
   "cell_type": "code",
   "execution_count": null,
   "id": "6e1c14bf",
   "metadata": {},
   "outputs": [],
   "source": [
    "c_grid = np.linspace(1, 300)   # for c=0 one of the eigenvectors reduces to zero"
   ]
  },
  {
   "cell_type": "markdown",
   "id": "b10e2edb",
   "metadata": {},
   "source": [
    "### stabilizing spring in the middle ($X=\\frac{1}{2}$) _symmetric case_"
   ]
  },
  {
   "cell_type": "code",
   "execution_count": null,
   "id": "76c365e0",
   "metadata": {},
   "outputs": [],
   "source": [
    "Xsym = 0.5\n",
    "F1_sym = sp.lambdify((c), F1.subs(X, Xsym), modules='numpy')\n",
    "F2_sym = sp.lambdify((c), F2.subs(X, Xsym), modules='numpy')"
   ]
  },
  {
   "cell_type": "code",
   "execution_count": null,
   "id": "9e360df1",
   "metadata": {},
   "outputs": [],
   "source": [
    "plt.plot(c_grid,F1_sym(c_grid), c_grid,F2_sym(c_grid))\n",
    "plt.xlabel(\"stiffness\");\n",
    "plt.ylabel(\"buckling load\");\n",
    "plt.legend([\"F_1\", \"F_2\"]);"
   ]
  },
  {
   "cell_type": "markdown",
   "id": "841ed38a",
   "metadata": {},
   "source": [
    "Note that the horizontal line, independent on color, corresponds to the second mode shape and the sloped line to the first mode shape. The Physics behind this plot are that, the spring only stabilizes against first mode buckling and is ineffective for the second mode (node point)."
   ]
  },
  {
   "cell_type": "markdown",
   "id": "4f05efba",
   "metadata": {},
   "source": [
    "There is one value of the spring, when both buckling loads are equal."
   ]
  },
  {
   "cell_type": "code",
   "execution_count": null,
   "id": "51f37b9a",
   "metadata": {},
   "outputs": [],
   "source": [
    "char_eq_sym = char_eq_ex.subs(X, Xsym)\n",
    "display(char_eq_sym)\n",
    "char_eq_sym_num = sp.lambdify((c), char_eq_sym, modules='numpy')\n",
    "#plt.plot(c_grid, char_eq_sym_num(c_grid));"
   ]
  },
  {
   "cell_type": "code",
   "execution_count": null,
   "id": "336f5e5b",
   "metadata": {},
   "outputs": [],
   "source": [
    "cm_sym = cm.subs(X, Xsym).evalf()\n",
    "display(Math(f'c_m = {sp.latex(cm_sym)}'))\n",
    "cp_sym = cp.subs(X, Xsym).evalf()\n",
    "display(Math(f'c_p = {sp.latex(cp_sym)}'))"
   ]
  },
  {
   "cell_type": "markdown",
   "id": "214a2335",
   "metadata": {},
   "source": [
    "eigenvectors show a jump: below the critical spring stiffness the lower eigenvalue corresponds to the first mode the higher eigenvalue to the second mode, above the critical value it is vice versa."
   ]
  },
  {
   "cell_type": "markdown",
   "id": "7e0f536e",
   "metadata": {},
   "source": [
    "### stabilizing spring somewhere ($X\\ne\\frac{1}{2}$) _asymmetric case_"
   ]
  },
  {
   "cell_type": "code",
   "execution_count": null,
   "id": "d15814e1",
   "metadata": {},
   "outputs": [],
   "source": [
    "Xasym = 0.51\n",
    "F1_asym = sp.lambdify((c), F1.subs(X, Xasym), modules='numpy')\n",
    "F2_asym = sp.lambdify((c), F2.subs(X, Xasym), modules='numpy')"
   ]
  },
  {
   "cell_type": "code",
   "execution_count": null,
   "id": "ecfa568a",
   "metadata": {},
   "outputs": [],
   "source": [
    "plt.plot(c_grid,F1_asym(c_grid),'b', c_grid,F2_asym(c_grid),'r')\n",
    "plt.xlabel(\"stiffness\");\n",
    "plt.ylabel(\"buckling load\");\n",
    "plt.legend([\"F_1\", \"F_2\"]);"
   ]
  },
  {
   "cell_type": "markdown",
   "id": "0f39142f",
   "metadata": {},
   "source": [
    "There is no common value of both buckling modes for any spring stiffness, apparent from the plot, as well as from the numerical expressions."
   ]
  },
  {
   "cell_type": "code",
   "execution_count": null,
   "id": "5799e28d",
   "metadata": {},
   "outputs": [],
   "source": [
    "cm_asym = cm.subs(X, Xasym).evalf()\n",
    "display(Math(f'c_m = {sp.latex(cm_asym)}'))\n",
    "cp_asym = cp.subs(X, Xasym).evalf()\n",
    "display(Math(f'c_p = {sp.latex(cp_asym)}'))"
   ]
  },
  {
   "cell_type": "markdown",
   "id": "0e9a49bd",
   "metadata": {},
   "source": [
    "#### normalized Eigenvectors"
   ]
  },
  {
   "cell_type": "code",
   "execution_count": null,
   "id": "5b595301",
   "metadata": {},
   "outputs": [],
   "source": [
    "plt.plot(c_grid, np.abs(w1_ev1_num(Xasym, c_grid)/wabs_ev1_num(Xasym, c_grid)),'b', c_grid, np.abs(w2_ev1_num(Xasym, c_grid)/wabs_ev1_num(Xasym, c_grid)),'b--');\n",
    "plt.xlabel('$c$');\n",
    "plt.legend(['$w_1$', '$w_2$']);"
   ]
  },
  {
   "cell_type": "markdown",
   "id": "401c3bfe",
   "metadata": {},
   "source": [
    "For the lower buckling load there is a transition from the first mode shape to the second."
   ]
  },
  {
   "cell_type": "code",
   "execution_count": null,
   "id": "721118e2",
   "metadata": {},
   "outputs": [],
   "source": [
    "plt.plot(c_grid, np.abs(w1_ev2_num(Xasym, c_grid)/wabs_ev2_num(Xasym, c_grid)),'r', c_grid, np.abs(w2_ev2_num(Xasym, c_grid)/wabs_ev2_num(Xasym, c_grid)),'r--');\n",
    "plt.xlabel('$c$');\n",
    "plt.legend(['$w_1$', '$w_2$']);"
   ]
  },
  {
   "cell_type": "markdown",
   "id": "ba12e7f9",
   "metadata": {},
   "source": [
    "For the higher buckling load it is the opposite transition than for the lower buckling load."
   ]
  },
  {
   "cell_type": "markdown",
   "id": "8e7cc93d",
   "metadata": {},
   "source": [
    "#### Visualization of the buckling shapes for different values of the spring stiffness"
   ]
  },
  {
   "cell_type": "code",
   "execution_count": null,
   "id": "b4048fb6",
   "metadata": {},
   "outputs": [],
   "source": [
    "c_selection = [1, 146, 300] \n",
    "for c_num in c_selection:\n",
    "    x_grid = np.linspace(0, 1) \n",
    "    w_buckling_lower_load  = lambda x: w1_ev1_num(Xasym, c_num)/wabs_ev1_num(Xasym, c_num) * np.sin(np.pi*x) + w2_ev1_num(Xasym, c_num)/wabs_ev1_num(Xasym, c_num) * np.sin(2*np.pi*x) \n",
    "    w_buckling_higher_load = lambda x: w1_ev2_num(Xasym, c_num)/wabs_ev2_num(Xasym, c_num) * np.sin(np.pi*x) + w2_ev2_num(Xasym, c_num)/wabs_ev2_num(Xasym, c_num) * np.sin(2*np.pi*x) \n",
    "    plt.plot(x_grid, w_buckling_lower_load(x_grid),'b')\n",
    "    plt.plot(x_grid, w_buckling_higher_load(x_grid),'r')\n",
    "    plt.xlabel('x')\n",
    "    plt.ylabel('w')\n",
    "    plt.legend(['F_1', 'F_2'])\n",
    "    plt.title('c=' + str(c_num))\n",
    "    plt.xticks([0, 0.2, 0.4, 0.6, 0.8, 1, Xasym], ['0', '0.2', '0.4', '0.6', '0.8', '1', 'X'])\n",
    "    plt.show(); \n",
    "    display(Math(f'w_l(X) = {sp.latex(w_buckling_lower_load(Xasym))}')) \n",
    "    display(Math(f'w_h(X) = {sp.latex(w_buckling_higher_load(Xasym))}'))"
   ]
  }
 ],
 "metadata": {
  "kernelspec": {
   "display_name": "Python 3 (ipykernel)",
   "language": "python",
   "name": "python3"
  },
  "language_info": {
   "codemirror_mode": {
    "name": "ipython",
    "version": 3
   },
   "file_extension": ".py",
   "mimetype": "text/x-python",
   "name": "python",
   "nbconvert_exporter": "python",
   "pygments_lexer": "ipython3",
   "version": "3.12.3"
  }
 },
 "nbformat": 4,
 "nbformat_minor": 5
}
