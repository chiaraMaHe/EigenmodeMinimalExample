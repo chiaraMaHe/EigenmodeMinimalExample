{
 "cells": [
  {
   "cell_type": "code",
   "execution_count": null,
   "id": "6d166a17",
   "metadata": {},
   "outputs": [],
   "source": [
    "from IPython.display import display, Math\n",
    "import numpy as np\n",
    "import sympy as sp\n",
    "import matplotlib.pyplot as plt\n",
    "import scipy as scipy    "
   ]
  },
  {
   "cell_type": "markdown",
   "id": "f5a61324",
   "metadata": {},
   "source": [
    "# Eigenvectors of the stiffness matrix in limit state problems\n",
    "[Dominik Kern](https://orcid.org/0000-0002-1958-2982),\n",
    "[Chiara Hergl](https://orcid.org/0000-0002-4016-9113),\n",
    "[Thomas Nagel](https://orcid.org/0000-0001-8459-4616)\n",
    "# Minimal Example of Beam Buckling with Axial-transversal Coupling\n",
    "With this formulation we obtain a common FEM-like equation $\\mathbf{C}({\\mathbf{u}})\\mathbf{u} = \\mathbf{f}$."
   ]
  },
  {
   "cell_type": "markdown",
   "id": "b2699900-4558-4d44-af66-13bd82f2800d",
   "metadata": {},
   "source": [
    "![Euler buckling case 2](euler_buckling.svg)"
   ]
  },
  {
   "cell_type": "markdown",
   "id": "31f97249",
   "metadata": {},
   "source": [
    "Non-dimensional potential energy for coupled beam bending (transversal displacement $w$, axial displacement $u$) with axial force $F$ and stabilizing spring (stiffness $c$)    \n",
    "$\\Pi = \\frac{1}{2}\\int_0^1 w''(x)^2 + G w'^2 \\mathrm{d}x +\\frac{1}{2}cw(X)^2 + F u(1)$\n",
    "\n",
    "with following relations to the dimensional variables \n",
    "- $G = \\dfrac{A l^2}{I}$ squared slenderness ratio,\n",
    "- $c = \\dfrac{c_\\mathrm{dim}l}{F_\\mathrm{ref}}$,\n",
    "- $F = \\dfrac{F_\\mathrm{dim}}{F_\\mathrm{ref}}$,\n",
    "with $F_\\mathrm{ref} = \\dfrac{EI}{l^2}$, note that first buckling load of this case is $F_\\mathrm{crit} = \\pi^2 F_\\mathrm{ref}$."
   ]
  },
  {
   "cell_type": "markdown",
   "id": "fd87acf1",
   "metadata": {},
   "source": [
    "Ritz' method with discretization $w(x)\\approx \\sum\\limits_{k=1}^{K} \\sin\\bigl(k\\pi x \\bigr)$ and $u\\approx \\hat{u}x$"
   ]
  },
  {
   "cell_type": "markdown",
   "id": "57aa2537",
   "metadata": {},
   "source": [
    "## Symbolic calculations"
   ]
  },
  {
   "cell_type": "markdown",
   "id": "13bc65da",
   "metadata": {},
   "source": [
    "Apply Ritz discretization (1 axial and 2 transversal DoF) and evaluate first variation of potential energy"
   ]
  },
  {
   "cell_type": "code",
   "execution_count": null,
   "id": "98d284af",
   "metadata": {},
   "outputs": [],
   "source": [
    "x, X, k, c, F, W1, W2, dW1, dW2, U1, dU1, G  = sp.symbols('x X k c F W1 W2 dW1 dW2 U1 dU1 G')"
   ]
  },
  {
   "cell_type": "code",
   "execution_count": null,
   "id": "ad01bab2",
   "metadata": {},
   "outputs": [],
   "source": [
    "w = sp.sin(k*sp.pi*x) \n",
    "\n",
    "W = W1*w.subs(k,1) + W2*w.subs(k,2)\n",
    "Wx = W.diff(x)\n",
    "Wxx = Wx.diff(x)\n",
    "\n",
    "dW = dW1*w.subs(k,1) + dW2*w.subs(k,2)\n",
    "dWx = dW.diff(x)\n",
    "dWxx = dWx.diff(x)\n",
    "\n",
    "U = U1*x\n",
    "Ux = U.diff(x)\n",
    "\n",
    "dU = dU1*x\n",
    "dUx = dU.diff(x)\n",
    "\n",
    "dPi = sp.integrate(Wxx*dWxx + G*(Ux+(1/2)*Wx*Wx)*(dUx+Wx*dWx), (x,0,1) ) + c*W.subs(x,X)*dW.subs(x,X) + F*U.subs(x,1)\n",
    "display(dPi)"
   ]
  },
  {
   "cell_type": "markdown",
   "id": "a1b65e0a",
   "metadata": {},
   "source": [
    "Generalized forces"
   ]
  },
  {
   "cell_type": "code",
   "execution_count": null,
   "id": "1bb751e7",
   "metadata": {},
   "outputs": [],
   "source": [
    "Q1 = sp.simplify(dPi.diff(W1))\n",
    "display(Math(f'Q_1 = {sp.latex(Q1)}'))\n",
    "Q2 = sp.simplify(dPi.diff(W2))\n",
    "display(Math(f'Q_2 = {sp.latex(Q2)}'))\n",
    "Q3 = sp.simplify(dPi.diff(U1))\n",
    "display(Math(f'Q_3 = {sp.latex(Q3)}'))"
   ]
  },
  {
   "cell_type": "markdown",
   "id": "a2d33cf5",
   "metadata": {},
   "source": [
    "Stiffness matrix (symmetric, remember $\\sin(2x)=2\\sin(x)\\cos(x)$)"
   ]
  },
  {
   "cell_type": "code",
   "execution_count": null,
   "id": "dd3d8945",
   "metadata": {},
   "outputs": [],
   "source": [
    "C11 = sp.expand(Q1).coeff(dW1, 1)\n",
    "C12 = sp.expand(Q1).coeff(dW2, 1)\n",
    "C13 = sp.expand(Q1).coeff(dU1, 1)\n",
    "\n",
    "C21 = sp.expand(Q2).coeff(dW1, 1)\n",
    "C22 = sp.expand(Q2).coeff(dW2, 1)\n",
    "C23 = sp.expand(Q2).coeff(dU1, 1)\n",
    "\n",
    "C31 = sp.expand(Q3).coeff(dW1, 1)\n",
    "C32 = sp.expand(Q3).coeff(dW2, 1)\n",
    "C33 = sp.expand(Q3).coeff(dU1, 1)\n",
    "\n",
    "C = sp.Matrix(((C11, C12, C13), (C21, C22, C23), (C31, C32, C33)))\n",
    "display(Math(f'C = {sp.latex(C)}'))"
   ]
  },
  {
   "cell_type": "markdown",
   "id": "ce766a29-e8b1-442f-af1f-06d10bd98fdf",
   "metadata": {},
   "source": [
    "Stiffness matrix before buckling, i.e. without bending deformation ($w(x)=0$)."
   ]
  },
  {
   "cell_type": "code",
   "execution_count": null,
   "id": "0bb18d3b-2610-4e92-be17-74387847dff0",
   "metadata": {},
   "outputs": [],
   "source": [
    "Wzero = 0\n",
    "Czero = C.subs([(W1, Wzero), (W2, Wzero)])\n",
    "display(Math(f'C_0 = {sp.latex(Czero)}'))"
   ]
  },
  {
   "cell_type": "markdown",
   "id": "5ff120e5",
   "metadata": {},
   "source": [
    "Buckling occurs when the determinant of the stiffness matrix vanishes."
   ]
  },
  {
   "cell_type": "code",
   "execution_count": null,
   "id": "072121d6",
   "metadata": {},
   "outputs": [],
   "source": [
    "char_eq = sp.simplify(sp.Determinant(C).doit())\n",
    "buckling_state = sp.solve(char_eq, U1)\n",
    "print(str(len(buckling_state)) + \" buckling states (as many as transversal DoF)\")\n",
    "U_1 = sp.simplify(buckling_state[0])\n",
    "U_2 = sp.simplify(buckling_state[1])\n",
    "display(Math(f'U_{1} = {sp.latex(U_1)}'))\n",
    "display(Math(f'U_{2} = {sp.latex(U_2)}'))\n",
    "\n",
    "Uzero_1 = U_1.subs([(W1, Wzero), (W2, Wzero)])\n",
    "Uzero_2 = U_2.subs([(W1, Wzero), (W2, Wzero)])"
   ]
  },
  {
   "cell_type": "markdown",
   "id": "35b55230",
   "metadata": {},
   "source": [
    "## Numerical evaluations"
   ]
  },
  {
   "cell_type": "markdown",
   "id": "d3d3a205-fbae-4a1a-a3fa-b873708937d6",
   "metadata": {},
   "source": [
    "common value for the slenderness ratio and a wide range of spring stiffness"
   ]
  },
  {
   "cell_type": "code",
   "execution_count": null,
   "id": "6e1c14bf",
   "metadata": {},
   "outputs": [],
   "source": [
    "N = 100\n",
    "c_grid = np.linspace(0, 300,N)   \n",
    "Gnum = 100**2   \n",
    "F1_sym = np.zeros((N,1))\n",
    "F2_sym = np.zeros((N,1))\n",
    "F1_asym = np.zeros((N,1))\n",
    "F2_asym = np.zeros((N,1))\n",
    "ev1 = np.zeros((N,3))\n",
    "ev2 = np.zeros((N,3))\n",
    "sev = np.zeros((N,3))"
   ]
  },
  {
   "cell_type": "markdown",
   "id": "b10e2edb",
   "metadata": {},
   "source": [
    "### stabilizing spring in the middle ($X=\\frac{1}{2}$) _symmetric case_"
   ]
  },
  {
   "cell_type": "code",
   "execution_count": null,
   "id": "ea784791-a2be-42d1-9373-ae4a545d4e47",
   "metadata": {},
   "outputs": [],
   "source": [
    "Xsym = 0.5"
   ]
  },
  {
   "cell_type": "markdown",
   "id": "03fd098a-70f1-4b0f-9e77-e25b61b8340f",
   "metadata": {},
   "source": [
    "Firstly, solve eigenvalue problem manually for verification"
   ]
  },
  {
   "cell_type": "code",
   "execution_count": null,
   "id": "76c365e0",
   "metadata": {},
   "outputs": [],
   "source": [
    "#for k,cnum in enumerate(c_grid):\n",
    "#    Usym_1 = Uzero_1.subs([(X,Xsym), (c,cnum,), (G,Gnum)])\n",
    "#    Usym_2 = Uzero_2.subs([(X,Xsym), (c,cnum,), (G,Gnum)])\n",
    "#\n",
    "#    Czero_sym = Czero.subs([(X,Xsym),(c,cnum),(G,Gnum)])\n",
    "#    F1_sym[k] = np.abs(Usym_1)*Czero_sym.row(2).col(2)[0]   # TODO correct here, but matrix/vector is general\n",
    "#    F2_sym[k] = np.abs(Usym_2)*Czero_sym.row(2).col(2)[0]\n",
    "#    display()\n",
    "    \n",
    "    # solve for Eigenvectors\n",
    "    #Czero_num1 = Czero_sym.subs(U1, Usym_1)\n",
    "    #Czero_num2 = Czero_sym.subs(U1, Usym_2)"
   ]
  },
  {
   "cell_type": "markdown",
   "id": "74b83918-40d8-411f-95f3-22a33539a8cd",
   "metadata": {},
   "source": [
    "Secondly, set up generalized eigenvalue problem $\\mathbf{A}\\mathbf{w} = x\\mathbf{B}\\mathbf{w}$ and compare with standard eigenvectors at $U=U_\\mathrm{crit}$ from above\n"
   ]
  },
  {
   "cell_type": "code",
   "execution_count": null,
   "id": "e087545c-3413-465b-abf2-a34049d9c000",
   "metadata": {},
   "outputs": [],
   "source": [
    "for k,cnum in enumerate(c_grid):\n",
    "    Czero_sym = Czero.subs([(X,Xsym),(c,cnum),(G,Gnum)])\n",
    "\n",
    "    # C = A + B*U1    \n",
    "    Azero_sym = sp.Matrix([[(Czero_sym[i,j].coeff(U1,0).evalf()) for i in [0,1,2]] for j in [0,1,2]])\n",
    "    Bzero_sym = sp.Matrix([[(Czero_sym[i,j].coeff(U1,1).evalf()) for i in [0,1,2]] for j in [0,1,2]])\n",
    "    Azero_num = np.array(Azero_sym).astype(np.float64)\n",
    "    Bzero_num = np.array(Bzero_sym).astype(np.float64)\n",
    "\n",
    "    eigvals, eigvecs = scipy.linalg.eig(Azero_num, Bzero_num)\n",
    "    C33num = Czero_sym.row(2).col(2)[0]\n",
    "    # sort by eigenvalues\n",
    "    if eigvals[0] < eigvals[1]:\n",
    "        F1_sym[k] = eigvals[0].real*C33num\n",
    "        F2_sym[k] = eigvals[1].real*C33num\n",
    "    else:\n",
    "        F1_sym[k] = eigvals[1].real*C33num\n",
    "        F2_sym[k] = eigvals[0].real*C33num"
   ]
  },
  {
   "cell_type": "markdown",
   "id": "a24c4c5e-712c-4414-93e7-149c6a87ea0b",
   "metadata": {},
   "source": [
    "Plot buckling load for a range of spring stiffnesses"
   ]
  },
  {
   "cell_type": "code",
   "execution_count": null,
   "id": "9e360df1",
   "metadata": {},
   "outputs": [],
   "source": [
    "plt.plot(c_grid,F1_sym,'b', c_grid,F2_sym,'r')\n",
    "plt.xlabel(\"stiffness\");\n",
    "plt.ylabel(\"buckling load\");\n",
    "plt.legend([\"F_1\", \"F_2\"]);"
   ]
  },
  {
   "cell_type": "markdown",
   "id": "841ed38a",
   "metadata": {},
   "source": [
    "Note that the horizontal line, independent on color, corresponds to the second mode shape and the sloped line to the first mode shape. The Physics behind this plot are that, the spring only stabilizes against first mode buckling and is ineffective for the second mode (node point). There is one value of the spring, when both buckling loads are equal."
   ]
  },
  {
   "cell_type": "markdown",
   "id": "7e0f536e",
   "metadata": {},
   "source": [
    "### stabilizing spring somewhere ($X=\\frac{3}{4}$) _asymmetric case_"
   ]
  },
  {
   "cell_type": "code",
   "execution_count": null,
   "id": "d15814e1",
   "metadata": {},
   "outputs": [],
   "source": [
    "Xasym = 0.55"
   ]
  },
  {
   "cell_type": "code",
   "execution_count": null,
   "id": "14ce3e94-0f4d-4227-b63b-7b3cedc61981",
   "metadata": {},
   "outputs": [],
   "source": [
    "for k,cnum in enumerate(c_grid):\n",
    "    Czero_asym = Czero.subs([(X,Xasym),(c,cnum),(G,Gnum)])\n",
    "    \n",
    "    Azero_asym = sp.Matrix([[(Czero_asym[i,j].coeff(U1,0).evalf()) for i in [0,1,2]] for j in [0,1,2]])\n",
    "    Bzero_asym = sp.Matrix([[(Czero_asym[i,j].coeff(U1,1).evalf()) for i in [0,1,2]] for j in [0,1,2]])\n",
    "\n",
    "    Azero_anum = np.array(Azero_asym).astype(np.float64)\n",
    "    Bzero_anum = np.array(Bzero_asym).astype(np.float64)\n",
    "\n",
    "    eigvals, eigvecs = scipy.linalg.eig(Azero_anum, Bzero_anum)\n",
    "\n",
    "    C33num = Czero_asym.row(2).col(2)[0]\n",
    "    # sort by eigenvalues and normalize eigenvectors\n",
    "    if eigvals[0] < eigvals[1]:\n",
    "        F1_asym[k] = eigvals[0].real*C33num\n",
    "        ev1_abs = np.linalg.norm(eigvecs[0])\n",
    "        ev1[k,0] = eigvecs[0][0]/ev1_abs\n",
    "        ev1[k,1] = eigvecs[0][1]/ev1_abs\n",
    "        ev1[k,2] = eigvecs[0][2]/ev1_abs\n",
    "        F2_asym[k] = eigvals[1].real*C33num\n",
    "        ev2_abs = np.linalg.norm(eigvecs[1])\n",
    "        ev2[k,0] = eigvecs[1][0]/ev2_abs\n",
    "        ev2[k,1] = eigvecs[1][1]/ev2_abs\n",
    "        ev2[k,2] = eigvecs[1][2]/ev2_abs\n",
    "    else:\n",
    "        F1_asym[k] = eigvals[1].real*C33num\n",
    "        ev1_abs = np.linalg.norm(eigvecs[1])\n",
    "        ev1[k,0] = eigvecs[1][0]/ev1_abs\n",
    "        ev1[k,1] = eigvecs[1][1]/ev1_abs\n",
    "        ev1[k,2] = eigvecs[1][2]/ev1_abs\n",
    "        F2_asym[k] = eigvals[0].real*C33num\n",
    "        ev2_abs = np.linalg.norm(eigvecs[0])\n",
    "        ev2[k,0] = eigvecs[0][0]/ev2_abs\n",
    "        ev2[k,1] = eigvecs[0][1]/ev2_abs\n",
    "        ev2[k,2] = eigvecs[0][2]/ev2_abs\n",
    "\n",
    "    # solve standard eigenvalue problem at lower buckling load\n",
    "    U1lower = min(eigvals[0], eigvals[1])\n",
    "    Czero_anum = np.matrix(Czero_asym.subs(U1, U1lower).evalf()).astype(np.float64)\n",
    "    standard_eigvals, standard_eigvecs = scipy.linalg.eig(Czero_anum)\n",
    "    sev_abs = np.linalg.norm(eigvecs[0])\n",
    "    sev[k,0] = standard_eigvecs[0][0]/sev_abs\n",
    "    sev[k,1] = standard_eigvecs[0][1]/sev_abs\n",
    "    sev[k,2] = standard_eigvecs[0][2]/sev_abs"
   ]
  },
  {
   "cell_type": "code",
   "execution_count": null,
   "id": "ecfa568a",
   "metadata": {},
   "outputs": [],
   "source": [
    "plt.plot(c_grid,F1_asym,'b', c_grid,F2_asym,'r')\n",
    "plt.xlabel(\"stiffness\");\n",
    "plt.ylabel(\"buckling load\");\n",
    "plt.legend([\"F_1\", \"F_2\"]);"
   ]
  },
  {
   "cell_type": "markdown",
   "id": "0f39142f",
   "metadata": {},
   "source": [
    "There is no common value of two buckling modes for any spring stiffness."
   ]
  },
  {
   "cell_type": "markdown",
   "id": "0e9a49bd",
   "metadata": {},
   "source": [
    "#### Eigenvectors"
   ]
  },
  {
   "cell_type": "code",
   "execution_count": null,
   "id": "5b595301",
   "metadata": {},
   "outputs": [],
   "source": [
    "plt.plot(c_grid, np.abs(ev1[:,0]),'b', c_grid, np.abs(ev1[:,1]),'b--', c_grid, np.abs(ev1[:,2]),'b:');\n",
    "plt.plot(c_grid, np.abs(sev[:,0]),'k', c_grid, np.abs(sev[:,1]),'k--', c_grid, np.abs(sev[:,2]),'k:');\n",
    "plt.xlabel('$c$');\n",
    "plt.legend(['$|w_1| (gen.EVP)$', '$|w_2| (gen.EVP)$', '$|u_1|$ (gen.EVP)', '$|w_1| (sta.EVP)$', '$|w_2| (sta.EVP)$', '$|u_1|$ (sta.EVP)']);"
   ]
  },
  {
   "cell_type": "markdown",
   "id": "401c3bfe",
   "metadata": {},
   "source": [
    "For the lower buckling load there is a transition from the first mode shape to the second, relation of generalized EVP to standard EVP is still mysterious **TODO**"
   ]
  },
  {
   "cell_type": "code",
   "execution_count": null,
   "id": "721118e2",
   "metadata": {},
   "outputs": [],
   "source": [
    "plt.plot(c_grid, np.abs(ev2[:,0]),'r', c_grid, np.abs(ev2[:,1]),'r--', c_grid, np.abs(ev2[:,2]),'r:');\n",
    "plt.xlabel('$c$');\n",
    "plt.legend(['$|w_1|$', '$|w_2|$', '$|u_1|$']);"
   ]
  },
  {
   "cell_type": "markdown",
   "id": "ba12e7f9",
   "metadata": {},
   "source": [
    "For the higher buckling load it is the opposite transition than for the lower buckling load."
   ]
  },
  {
   "cell_type": "markdown",
   "id": "8e7cc93d",
   "metadata": {},
   "source": [
    "#### Plots of the buckling shapes for different values of the spring stiffness"
   ]
  },
  {
   "cell_type": "code",
   "execution_count": null,
   "id": "b4048fb6",
   "metadata": {},
   "outputs": [],
   "source": [
    "x_grid = np.linspace(0, 1) \n",
    "index_c = [1, 48, 99] \n",
    "for i_c in index_c:\n",
    "    w_buckling_lower_load  = lambda x: ev1[i_c,0] * np.sin(np.pi*x) + ev1[i_c,1] * np.sin(2*np.pi*x) \n",
    "    w_buckling_higher_load = lambda x: ev2[i_c,0] * np.sin(np.pi*x) + ev2[i_c,1] * np.sin(2*np.pi*x) \n",
    "    plt.plot(x_grid, w_buckling_lower_load(x_grid),'b')\n",
    "    plt.plot(x_grid, w_buckling_higher_load(x_grid),'r')\n",
    "    plt.xlabel('x')\n",
    "    plt.ylabel('w')\n",
    "    plt.legend(['F_1', 'F_2'])\n",
    "    plt.title('c=' + str(c_grid[i_c]))\n",
    "    plt.xticks([0, 0.2, 0.4, 0.6, 0.8, 1, Xasym], ['0', '0.2', '0.4', '0.6', '0.8', '1', 'X'])\n",
    "    plt.show(); \n",
    "    display(Math(f'w_l(X) = {sp.latex(w_buckling_lower_load(Xasym))}')) \n",
    "    display(Math(f'w_h(X) = {sp.latex(w_buckling_higher_load(Xasym))}'))"
   ]
  }
 ],
 "metadata": {
  "kernelspec": {
   "display_name": "Python 3 (ipykernel)",
   "language": "python",
   "name": "python3"
  },
  "language_info": {
   "codemirror_mode": {
    "name": "ipython",
    "version": 3
   },
   "file_extension": ".py",
   "mimetype": "text/x-python",
   "name": "python",
   "nbconvert_exporter": "python",
   "pygments_lexer": "ipython3",
   "version": "3.12.3"
  }
 },
 "nbformat": 4,
 "nbformat_minor": 5
}
