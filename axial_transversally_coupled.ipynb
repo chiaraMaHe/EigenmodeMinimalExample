{
 "cells": [
  {
   "cell_type": "code",
   "execution_count": null,
   "id": "6d166a17",
   "metadata": {},
   "outputs": [],
   "source": [
    "from IPython.display import display, Math\n",
    "import numpy as np\n",
    "import sympy as sp\n",
    "import matplotlib.pyplot as plt\n",
    "import scipy as scipy    "
   ]
  },
  {
   "cell_type": "markdown",
   "id": "f5a61324",
   "metadata": {},
   "source": [
    "# Eigenvectors of the stiffness matrix in limit state problems\n",
    "[Dominik Kern](https://orcid.org/0000-0002-1958-2982),\n",
    "[Chiara Hergl](https://orcid.org/0000-0002-4016-9113),\n",
    "[Thomas Nagel](https://orcid.org/0000-0001-8459-4616)\n",
    "\n",
    "**TODO** enter final title!\n",
    "# Minimal Example of Beam Buckling with Axial-transversal Coupling\n",
    "With this formulation we obtain a common FEM-like equation $\\mathbf{C}\\mathbf{u} = \\mathbf{f}$ with $\\mathbf{C}=\\mathbf{C}({\\mathbf{u}})$."
   ]
  },
  {
   "cell_type": "markdown",
   "id": "b2699900-4558-4d44-af66-13bd82f2800d",
   "metadata": {},
   "source": [
    "![Euler buckling case 2](euler_buckling.svg)"
   ]
  },
  {
   "cell_type": "markdown",
   "id": "31f97249",
   "metadata": {},
   "source": [
    "Non-dimensional potential energy for coupled beam bending (transversal displacement $w$, axial displacement $u$) with axial force $F$ and stabilizing spring (stiffness $c$)    \n",
    "$\\Pi = \\frac{1}{2}\\int_0^1 w''(x)^2 + G \\left(u' + \\frac{1}{2} w'^2\\right)^2 \\mathrm{d}x +\\frac{1}{2}cw(X)^2 + F u(1)$,\n",
    "\n",
    "and following relations to the dimensional variables \n",
    "- $G = \\dfrac{A l^2}{I}$ squared slenderness ratio,\n",
    "- $c = \\dfrac{c_\\mathrm{dim}l}{F_\\mathrm{ref}}$,\n",
    "- $F = \\dfrac{F_\\mathrm{dim}}{F_\\mathrm{ref}}$,\n",
    "with $F_\\mathrm{ref} = \\dfrac{EI}{l^2}$, note that first buckling load of this case is $F_\\mathrm{crit} = \\pi^2 F_\\mathrm{ref}$."
   ]
  },
  {
   "cell_type": "markdown",
   "id": "fd87acf1",
   "metadata": {},
   "source": [
    "Ritz' method with discretization $w(x)\\approx \\sum\\limits_{k=1}^{K} \\sin\\bigl(k\\pi x \\bigr)$ and $u\\approx \\hat{u}x$, here $K=2$."
   ]
  },
  {
   "cell_type": "markdown",
   "id": "57aa2537",
   "metadata": {},
   "source": [
    "## Symbolic calculations"
   ]
  },
  {
   "cell_type": "markdown",
   "id": "13bc65da",
   "metadata": {},
   "source": [
    "Apply Ritz discretization (3 DoF: 1 axial and 2 transversal) and evaluate first variation of potential energy"
   ]
  },
  {
   "cell_type": "code",
   "execution_count": null,
   "id": "98d284af",
   "metadata": {},
   "outputs": [],
   "source": [
    "x, X, k, c, F, W1, W2, dW1, dW2, U1, dU1, G  = sp.symbols('x X k c F W1 W2 dW1 dW2 U1 dU1 G')"
   ]
  },
  {
   "cell_type": "code",
   "execution_count": null,
   "id": "ad01bab2",
   "metadata": {},
   "outputs": [],
   "source": [
    "w = sp.sin(k*sp.pi*x) \n",
    "\n",
    "W = W1*w.subs(k,1) + W2*w.subs(k,2)\n",
    "Wx = W.diff(x)\n",
    "Wxx = Wx.diff(x)\n",
    "\n",
    "dW = dW1*w.subs(k,1) + dW2*w.subs(k,2)\n",
    "dWx = dW.diff(x)\n",
    "dWxx = dWx.diff(x)\n",
    "\n",
    "U = U1*x\n",
    "Ux = U.diff(x)\n",
    "\n",
    "dU = dU1*x\n",
    "dUx = dU.diff(x)\n",
    "\n",
    "dPi = sp.integrate(Wxx*dWxx + G*(Ux+(1/2)*Wx*Wx)*(dUx+Wx*dWx), (x,0,1) ) + c*W.subs(x,X)*dW.subs(x,X) + F*U.subs(x,1)\n",
    "#display(dPi)"
   ]
  },
  {
   "cell_type": "markdown",
   "id": "a1b65e0a",
   "metadata": {},
   "source": [
    "Generalized forces, conjugated with $w_1$, $w_2$ and $u_1$, respectively."
   ]
  },
  {
   "cell_type": "code",
   "execution_count": null,
   "id": "1bb751e7",
   "metadata": {},
   "outputs": [],
   "source": [
    "Q1 = sp.simplify(dPi.diff(W1))\n",
    "display(Math(f'Q_1 = {sp.latex(Q1)}'))\n",
    "Q2 = sp.simplify(dPi.diff(W2))\n",
    "display(Math(f'Q_2 = {sp.latex(Q2)}'))\n",
    "Q3 = sp.simplify(dPi.diff(U1))\n",
    "display(Math(f'Q_3 = {sp.latex(Q3)}'))"
   ]
  },
  {
   "cell_type": "markdown",
   "id": "a2d33cf5",
   "metadata": {},
   "source": [
    "Stiffness matrix (symmetric, remember $\\sin(2x)=2\\sin(x)\\cos(x)$)"
   ]
  },
  {
   "cell_type": "code",
   "execution_count": null,
   "id": "dd3d8945",
   "metadata": {},
   "outputs": [],
   "source": [
    "C11 = sp.expand(Q1).coeff(dW1, 1)\n",
    "C12 = sp.expand(Q1).coeff(dW2, 1)\n",
    "C13 = sp.expand(Q1).coeff(dU1, 1)\n",
    "\n",
    "C21 = sp.expand(Q2).coeff(dW1, 1)\n",
    "C22 = sp.expand(Q2).coeff(dW2, 1)\n",
    "C23 = sp.expand(Q2).coeff(dU1, 1)\n",
    "\n",
    "C31 = sp.expand(Q3).coeff(dW1, 1)\n",
    "C32 = sp.expand(Q3).coeff(dW2, 1)\n",
    "C33 = sp.expand(Q3).coeff(dU1, 1)\n",
    "\n",
    "C = sp.Matrix(((C11, C12, C13), (C21, C22, C23), (C31, C32, C33)))\n",
    "display(Math(f'C = {sp.latex(C)}'))"
   ]
  },
  {
   "cell_type": "markdown",
   "id": "ce766a29-e8b1-442f-af1f-06d10bd98fdf",
   "metadata": {},
   "source": [
    "Stiffness matrix before buckling, i.e. without bending deformation $w(x)=0$."
   ]
  },
  {
   "cell_type": "code",
   "execution_count": null,
   "id": "0bb18d3b-2610-4e92-be17-74387847dff0",
   "metadata": {},
   "outputs": [],
   "source": [
    "nDoF = 3\n",
    "Wzero = 0\n",
    "Czero = C.subs([(W1, Wzero), (W2, Wzero)])\n",
    "display(Math(f'C_0 = {sp.latex(Czero)}'))"
   ]
  },
  {
   "cell_type": "markdown",
   "id": "5ff120e5",
   "metadata": {},
   "source": [
    "Buckling occurs when the determinant of the stiffness matrix vanishes."
   ]
  },
  {
   "cell_type": "code",
   "execution_count": null,
   "id": "072121d6",
   "metadata": {},
   "outputs": [],
   "source": [
    "char_eq = sp.simplify(sp.Determinant(C).doit())\n",
    "buckling_state = sp.solve(char_eq, U1)\n",
    "print(str(len(buckling_state)) + \" buckling states (as many as transversal DoF)\")\n",
    "U_1 = sp.simplify(buckling_state[0])\n",
    "U_2 = sp.simplify(buckling_state[1])\n",
    "Uzero_1 = U_1.subs([(W1, Wzero), (W2, Wzero)])\n",
    "Uzero_2 = U_2.subs([(W1, Wzero), (W2, Wzero)])"
   ]
  },
  {
   "cell_type": "markdown",
   "id": "35b55230",
   "metadata": {},
   "source": [
    "## Numerical evaluations"
   ]
  },
  {
   "cell_type": "markdown",
   "id": "d3d3a205-fbae-4a1a-a3fa-b873708937d6",
   "metadata": {},
   "source": [
    "common value for the slenderness ratio and a wide range of spring stiffnesses"
   ]
  },
  {
   "cell_type": "code",
   "execution_count": null,
   "id": "6e1c14bf",
   "metadata": {},
   "outputs": [],
   "source": [
    "N = 100\n",
    "c_grid = np.linspace(0, 300,N)   # spring stiffness\n",
    "Gnum = 100**2   # squarred slenderness ratio\n",
    "num_zero = 1e-10\n",
    "\n",
    "F_lower_sym = np.zeros((N,1))\n",
    "F_higher_sym = np.zeros((N,1))\n",
    "\n",
    "F_lower_asym = np.zeros((N,1))\n",
    "F_higher_asym = np.zeros((N,1))\n",
    "gev_lower = np.zeros((N,3))\n",
    "gev_higher = np.zeros((N,3))\n",
    "sev_lower = np.zeros((N,3))\n",
    "sev_higher = np.zeros((N,3))"
   ]
  },
  {
   "cell_type": "markdown",
   "id": "b10e2edb",
   "metadata": {},
   "source": [
    "### stabilizing spring in the middle ($X=\\frac{1}{2}$) _symmetric case_"
   ]
  },
  {
   "cell_type": "code",
   "execution_count": null,
   "id": "ea784791-a2be-42d1-9373-ae4a545d4e47",
   "metadata": {},
   "outputs": [],
   "source": [
    "Xsym = 0.5"
   ]
  },
  {
   "cell_type": "markdown",
   "id": "74b83918-40d8-411f-95f3-22a33539a8cd",
   "metadata": {},
   "source": [
    "Set up generalized eigenvalue problem $\\mathbf{A}\\mathbf{w} = x\\mathbf{B}\\mathbf{w}$ and compare with standard eigenvectors at $U=U_\\mathrm{crit}$\n"
   ]
  },
  {
   "cell_type": "code",
   "execution_count": null,
   "id": "e087545c-3413-465b-abf2-a34049d9c000",
   "metadata": {},
   "outputs": [],
   "source": [
    "for k,cnum in enumerate(c_grid):\n",
    "    Czero_sym = Czero.subs([(X,Xsym),(c,cnum),(G,Gnum)])\n",
    "    C33num = Czero_sym.row(2).col(2)[0]  # strictly speaking, here we'd need matrix-vector multiplication, but we know matrix structure\n",
    "    \n",
    "    # C = A + B*U1, since we specifically know the matrix structure for this example problem   \n",
    "    Azero_sym = sp.Matrix([[( Czero_sym[i,j].coeff(U1,0).evalf()) for i in range(nDoF)] for j in range(nDoF)])\n",
    "    Bzero_sym = sp.Matrix([[(-Czero_sym[i,j].coeff(U1,1).evalf()) for i in range(nDoF)] for j in range(nDoF)])\n",
    "    Azero_num = np.array(Azero_sym).astype(np.float64)\n",
    "    Bzero_num = np.array(Bzero_sym).astype(np.float64)\n",
    "    eigvals, eigvecs = scipy.linalg.eig(Azero_num, b=Bzero_num)\n",
    "    \n",
    "    # sort by eigenvalues\n",
    "    if np.abs(eigvals[2]) < np.abs(eigvals[0]) or np.abs(eigvals[2]) < np.abs(eigvals[1]):\n",
    "        print(\"Warning, for k={} assumption of third eigenvalue being infinite is not fulfilled!\".format(k))\n",
    "    \n",
    "    if np.abs(eigvals[0]) < np.abs(eigvals[1]):\n",
    "        F_lower_sym[k]  = eigvals[0].real*C33num.evalf()\n",
    "        F_higher_sym[k] = eigvals[1].real*C33num.evalf()\n",
    "    else:\n",
    "        F_lower_sym[k]  = eigvals[1].real*C33num.evalf()\n",
    "        F_higher_sym[k] = eigvals[0].real*C33num.evalf()\n",
    "\n",
    "    #F_inf_sym[k] = eigvals[2].real*C33num   # difficult to plot"
   ]
  },
  {
   "cell_type": "markdown",
   "id": "a24c4c5e-712c-4414-93e7-149c6a87ea0b",
   "metadata": {},
   "source": [
    "Plot buckling load for a range of spring stiffnesses"
   ]
  },
  {
   "cell_type": "code",
   "execution_count": null,
   "id": "9e360df1",
   "metadata": {},
   "outputs": [],
   "source": [
    "plt.plot(c_grid,np.abs(F_lower_sym),'b', c_grid,np.abs(F_higher_sym),'r')\n",
    "plt.xlabel(\"stiffness\");\n",
    "plt.ylabel(\"buckling load\");\n",
    "plt.legend([\"|F_1|\", \"|F_2|\"]);"
   ]
  },
  {
   "cell_type": "markdown",
   "id": "841ed38a",
   "metadata": {},
   "source": [
    "Note that the horizontal line, independent on color, corresponds to the second mode shape and the sloped line to the first mode shape. The physics behind this plot are that, the spring only stabilizes against first mode buckling and is ineffective for the second mode (node point). There is one value of the spring stiffness, when both buckling loads are equal."
   ]
  },
  {
   "cell_type": "markdown",
   "id": "7e0f536e",
   "metadata": {},
   "source": [
    "### stabilizing spring somewhere ($X\\ne\\frac{1}{2}$) _asymmetric case_\n",
    "By _asymmetry_ we refer to the vertical direction, as in horizontal direction symmetry is preserved, i.e. no difference in bending to the right or to the left."
   ]
  },
  {
   "cell_type": "code",
   "execution_count": null,
   "id": "d15814e1",
   "metadata": {},
   "outputs": [],
   "source": [
    "Xasym = 0.55   "
   ]
  },
  {
   "cell_type": "code",
   "execution_count": null,
   "id": "14ce3e94-0f4d-4227-b63b-7b3cedc61981",
   "metadata": {},
   "outputs": [],
   "source": [
    "for k,cnum in enumerate(c_grid):\n",
    "    Czero_asym = Czero.subs([(X,Xasym),(c,cnum),(G,Gnum)])\n",
    "    C33num = Czero_asym.row(2).col(2)[0]\n",
    "    \n",
    "    Azero_asym = sp.Matrix([[( Czero_asym[i,j].coeff(U1,0).evalf()) for i in range(nDoF)] for j in range(nDoF)])\n",
    "    Bzero_asym = sp.Matrix([[(-Czero_asym[i,j].coeff(U1,1).evalf()) for i in range(nDoF)] for j in range(nDoF)])\n",
    "    Azero_anum = np.array(Azero_asym).astype(np.float64)\n",
    "    Bzero_anum = np.array(Bzero_asym).astype(np.float64)\n",
    "    eigvals, eigvecs = scipy.linalg.eig(Azero_anum, b=Bzero_anum)   # generalized Eigenvalue problem  \n",
    "    \n",
    "    # sort by eigenvalues\n",
    "    if np.abs(eigvals[2]) < np.abs(eigvals[0]) or np.abs(eigvals[2]) < np.abs(eigvals[1]):\n",
    "        print(\"Warning, for k={} assumption of third eigenvalue being infinite is not fulfilled!\".format(k))\n",
    "        \n",
    "    if np.abs(eigvals[0]) < np.abs(eigvals[1]): \n",
    "        U1lower  = eigvals[0]\n",
    "        F_lower_asym[k] = eigvals[0].real*C33num.evalf()\n",
    "        gev_lower[k,:] = eigvecs[:,0]\n",
    "        U1higher = eigvals[1]\n",
    "        F_higher_asym[k] = eigvals[1].real*C33num.evalf()\n",
    "        gev_higher[k,:] = eigvecs[:,1]\n",
    "    \n",
    "    else:\n",
    "        U1lower  = eigvals[1]\n",
    "        F_lower_asym[k] = eigvals[1].real*C33num.evalf()\n",
    "        gev_lower[k,:] = eigvecs[:,1]\n",
    "        U1higher = eigvals[0]\n",
    "        F_higher_asym[k] = eigvals[0].real*C33num.evalf()\n",
    "        gev_higher[k,:] = eigvecs[:,0]\n",
    "\n",
    "    # compute eigenvector (zero eigenvalue) at lower buckling load\n",
    "    Czero_lower =  np.matrix(Czero_asym.subs(U1, U1lower).evalf()).astype(np.float64)\n",
    "    standard_eigvals, standard_eigvecs = scipy.linalg.eigh(Czero_lower)\n",
    "    # pick eigenvector of eigenvalue = 0\n",
    "    i_min = np.argmin(np.abs(standard_eigvals))\n",
    "    if np.abs(standard_eigvals[i_min]) > num_zero:\n",
    "        print(\"Warning, minimal eigenvalue (SEVP) at buckling must be zero!\")\n",
    "    else:\n",
    "        sev_lower[k,:] = standard_eigvecs[:,i_min]\n",
    "\n",
    "    # compute eigenvector (zero eigenvalue) at higher buckling load\n",
    "    Czero_higher =  np.matrix(Czero_asym.subs(U1, U1higher).evalf()).astype(np.float64)\n",
    "    standard_eigvals, standard_eigvecs = scipy.linalg.eigh(Czero_higher)\n",
    "    # pick eigenvector of eigenvalue = 0\n",
    "    i_min = np.argmin(np.abs(standard_eigvals))\n",
    "    if np.abs(standard_eigvals[i_min]) > num_zero:\n",
    "        print(\"Warning, minimal eigenvalue (SEVP) at buckling must be zero!\")\n",
    "    else:\n",
    "        sev_higher[k,:] = standard_eigvecs[:,i_min]\n",
    "        \n",
    "    #F_inf_asym[k] = eigvals[2].real*C33num   # difficult to plot"
   ]
  },
  {
   "cell_type": "code",
   "execution_count": null,
   "id": "ecfa568a",
   "metadata": {},
   "outputs": [],
   "source": [
    "plt.plot(c_grid,np.abs(F_lower_asym),'b', c_grid,np.abs(F_higher_asym),'r')\n",
    "plt.xlabel(\"stiffness\");\n",
    "plt.ylabel(\"buckling load\");\n",
    "plt.legend([\"|F_1|\", \"|F_2|\"]);"
   ]
  },
  {
   "cell_type": "markdown",
   "id": "0f39142f",
   "metadata": {},
   "source": [
    "There is no common value of two buckling modes for any spring stiffness."
   ]
  },
  {
   "cell_type": "markdown",
   "id": "0e9a49bd",
   "metadata": {},
   "source": [
    "#### Eigenvectors"
   ]
  },
  {
   "cell_type": "markdown",
   "id": "8a6205b5-ceb1-4662-8ca3-2353c0fef2e4",
   "metadata": {},
   "source": [
    "##### Generalized EVP"
   ]
  },
  {
   "cell_type": "code",
   "execution_count": null,
   "id": "5b595301",
   "metadata": {},
   "outputs": [],
   "source": [
    "plt.plot(c_grid, np.abs(gev_lower[:,0]),'b', c_grid, np.abs(gev_lower[:,1]),'b--', c_grid, np.abs(gev_lower[:,2]),'b:');\n",
    "#plt.plot(c_grid, np.abs(ev1[:,0])**2 + np.abs(ev1[:,1])**2 + np.abs(ev1[:,2])**2, 'gray');\n",
    "plt.xlabel('$c$');\n",
    "plt.legend(['$|w_1|$', '$|w_2|$', '$|u_1|$']);"
   ]
  },
  {
   "cell_type": "markdown",
   "id": "159a5cf3-b08a-4972-b595-4d45caeb1048",
   "metadata": {},
   "source": [
    "##### Standard EVP"
   ]
  },
  {
   "cell_type": "code",
   "execution_count": null,
   "id": "831716bc-35f8-4cb9-8b18-a4399646c947",
   "metadata": {},
   "outputs": [],
   "source": [
    "plt.plot(c_grid, np.abs(sev_lower[:,0]),'c', c_grid, np.abs(sev_lower[:,1]),'c--', c_grid, np.abs(sev_lower[:,2]),'c:');\n",
    "#plt.plot(c_grid, np.abs(ev_l1[:,0])**2 + np.abs(ev_l1[:,1])**2 + np.abs(ev_l1[:,2])**2, 'gray');\n",
    "plt.xlabel('$c$');\n",
    "plt.legend(['$|w_1|$', '$|w_2|$', '$|u_1|$']);"
   ]
  },
  {
   "cell_type": "markdown",
   "id": "401c3bfe",
   "metadata": {},
   "source": [
    "For the lower buckling load there is a transition from the first mode shape to the second. Both eigenvectors, from the generalized and from the standard EVP, are identical as expected. "
   ]
  },
  {
   "cell_type": "markdown",
   "id": "bd880f54-72ce-49ef-933f-6f6a9c49412b",
   "metadata": {},
   "source": [
    "##### Generalized EVP"
   ]
  },
  {
   "cell_type": "code",
   "execution_count": null,
   "id": "721118e2",
   "metadata": {},
   "outputs": [],
   "source": [
    "plt.plot(c_grid, np.abs(gev_higher[:,0]),'r', c_grid, np.abs(gev_higher[:,1]),'r--', c_grid, np.abs(gev_higher[:,2]),'r:');\n",
    "#plt.plot(c_grid, np.abs(ev2[:,0])**2 + np.abs(ev2[:,1])**2 + np.abs(ev2[:,2])**2, 'gray');\n",
    "plt.xlabel('$c$');\n",
    "plt.legend(['$|w_1|$', '$|w_2|$', '$|u_1|$']);"
   ]
  },
  {
   "cell_type": "markdown",
   "id": "fadf29c9-3c0b-48a7-8180-1b0cd16b0dfa",
   "metadata": {},
   "source": [
    "##### Standard EVP"
   ]
  },
  {
   "cell_type": "code",
   "execution_count": null,
   "id": "6a209955-6a2c-4743-8f20-8f149fa58102",
   "metadata": {},
   "outputs": [],
   "source": [
    "plt.plot(c_grid, np.abs(sev_higher[:,0]),'m', c_grid, np.abs(sev_higher[:,1]),'m--', c_grid, np.abs(sev_higher[:,2]),'m:');\n",
    "#plt.plot(c_grid, np.abs(ev_h1[:,0])**2 + np.abs(ev_h1[:,1])**2 + np.abs(ev_h1[:,2])**2, 'gray');\n",
    "plt.xlabel('$c$');\n",
    "plt.legend(['$|w_1|$', '$|w_2|$', '$|u_1|$']);"
   ]
  },
  {
   "cell_type": "markdown",
   "id": "ba12e7f9",
   "metadata": {},
   "source": [
    "For the higher buckling load it is the opposite transition than for the lower buckling load. Again, both eigenvectors match."
   ]
  },
  {
   "cell_type": "markdown",
   "id": "8e7cc93d",
   "metadata": {},
   "source": [
    "#### Plots of the buckling shapes for different values of the spring stiffness"
   ]
  },
  {
   "cell_type": "code",
   "execution_count": null,
   "id": "b4048fb6",
   "metadata": {},
   "outputs": [],
   "source": [
    "x_grid = np.linspace(0, 1) \n",
    "index_c = [1, 48, 99]    # low, intermediate and high spring stiffness (manual selection)\n",
    "for i_c in index_c:\n",
    "    w_buckling_lower_load  = lambda x: gev_lower[i_c, 0] * np.sin(np.pi*x) + gev_lower[i_c, 1] * np.sin(2*np.pi*x) \n",
    "    w_buckling_higher_load = lambda x: gev_higher[i_c, 0] * np.sin(np.pi*x) + gev_higher[i_c, 1] * np.sin(2*np.pi*x) \n",
    "    plt.plot(x_grid, w_buckling_lower_load(x_grid),'b')\n",
    "    plt.plot(x_grid, w_buckling_higher_load(x_grid),'r')\n",
    "    plt.xlabel('x')\n",
    "    plt.ylabel('w')\n",
    "    plt.ylim([-1.25,1.25])\n",
    "    plt.legend(['F_1', 'F_2'])\n",
    "    plt.title('c={:.2f}'.format(c_grid[i_c]))\n",
    "    plt.xticks([0, 0.2, 0.4, 0.6, 0.8, 1, Xasym], ['0', '0.2', '0.4', '0.6', '0.8', '1', 'X'])\n",
    "    plt.show(); "
   ]
  },
  {
   "cell_type": "code",
   "execution_count": null,
   "id": "9e858459-c9b4-4ef8-a045-c724ef080075",
   "metadata": {},
   "outputs": [],
   "source": []
  }
 ],
 "metadata": {
  "kernelspec": {
   "display_name": "Python 3 (ipykernel)",
   "language": "python",
   "name": "python3"
  },
  "language_info": {
   "codemirror_mode": {
    "name": "ipython",
    "version": 3
   },
   "file_extension": ".py",
   "mimetype": "text/x-python",
   "name": "python",
   "nbconvert_exporter": "python",
   "pygments_lexer": "ipython3",
   "version": "3.12.3"
  }
 },
 "nbformat": 4,
 "nbformat_minor": 5
}
