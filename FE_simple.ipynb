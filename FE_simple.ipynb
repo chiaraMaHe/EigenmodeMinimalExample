{
 "cells": [
  {
   "cell_type": "markdown",
   "id": "6fa6e538",
   "metadata": {},
   "source": [
    "# Eigendecomposition of a small FE system\n",
    "\n",
    "Supplementary material to the [GAMMAS](https://www.bibliothek.tu-chemnitz.de/ojs/index.php/gammas) article **From Problem to Failure -- Insights from the Eigenvalue Problem of the Stiffness Matrix in Non-linear Structural Analysis** by \n",
    "[Chiara Hergl](https://orcid.org/0000-0002-4016-9113),\n",
    "[Dominik Kern](https://orcid.org/0000-0002-1958-2982),\n",
    "[Thomas Nagel](https://orcid.org/0000-0001-8459-4616)"
   ]
  },
  {
   "cell_type": "code",
   "execution_count": 1,
   "id": "cdf7f045",
   "metadata": {},
   "outputs": [],
   "source": [
    "import numpy as np\n",
    "import sympy as sp\n",
    "import matplotlib.pyplot as plt\n",
    "#import tikzplotlib"
   ]
  },
  {
   "cell_type": "code",
   "execution_count": 11,
   "id": "9817189c",
   "metadata": {},
   "outputs": [],
   "source": [
    "sp.init_printing()"
   ]
  },
  {
   "cell_type": "code",
   "execution_count": 12,
   "id": "867ba30b",
   "metadata": {},
   "outputs": [],
   "source": [
    "E,A,l,h = sp.symbols('E A l h')"
   ]
  },
  {
   "cell_type": "code",
   "execution_count": 13,
   "id": "4a6acfe8",
   "metadata": {},
   "outputs": [],
   "source": [
    "K = sp.Matrix([[1,-1,0,0,0],[-1,2,-1,0,0],[0,-1,2,-1,0],[0,0,-1,2,-1],[0,0,0,-1,1]])\n",
    "K"
   ]
  },
  {
   "cell_type": "code",
   "execution_count": 14,
   "id": "456c2bec",
   "metadata": {},
   "outputs": [],
   "source": [
    "print(sp.latex(K,mode='inline'))"
   ]
  },
  {
   "cell_type": "markdown",
   "id": "f1a9d2b7",
   "metadata": {},
   "source": [
    "Stiffness matrix with and without modification for boundary condition."
   ]
  },
  {
   "cell_type": "code",
   "execution_count": 6,
   "id": "fc4d4ccb",
   "metadata": {},
   "outputs": [],
   "source": [
    "K_uc = 4*np.matrix([[1,-1,0,0,0],[-1,2,-1,0,0],[0,-1,2,-1,0],[0,0,-1,2,-1],[0,0,0,-1,1]])\n",
    "K_ = 4*np.matrix([[1,0,0,0,0],[-1*0,2,-1,0,0],[0,-1,2,-1,0],[0,0,-1,2,-1],[0,0,0,-1,1]])"
   ]
  },
  {
   "cell_type": "code",
   "execution_count": 7,
   "id": "e28de763",
   "metadata": {},
   "outputs": [],
   "source": [
    "def plot_eigenvalues_vectors(K, filename):\n",
    "    # Compute the eigenvalues and eigenvectors\n",
    "    eigvals, eigvecs = np.linalg.eig(K)\n",
    "    \n",
    "    # Sort the eigenvalues and corresponding eigenvectors\n",
    "    idx = np.argsort(eigvals)  # Sort in ascending order\n",
    "    sorted_eigvals = eigvals[idx]\n",
    "    sorted_eigvecs = eigvecs[:, idx]\n",
    "    \n",
    "    # Create the plot\n",
    "    fig, ax = plt.subplots(figsize=(6, 3.5))\n",
    "    \n",
    "    for i in range(len(sorted_eigvals)):\n",
    "        ax.plot(sorted_eigvecs[:, i], marker='o', color='blue', \n",
    "                alpha=1 - i * 0.22, label=r'$\\lambda_{%i} = %.3f$' % (i+1, sorted_eigvals[i]))\n",
    "    \n",
    "    # Remove unnecessary frame spines\n",
    "    ax.spines['top'].set_visible(False)\n",
    "    ax.spines['right'].set_visible(False)\n",
    "    ax.spines['left'].set_position('zero')\n",
    "    ax.spines['bottom'].set_position('zero')\n",
    "    \n",
    "    # Set x-axis to integer values only\n",
    "    ax.set_xticks(range(len(sorted_eigvecs)))\n",
    "    ax.xaxis.set_major_formatter(plt.FuncFormatter(lambda x, _: f'{int(x)}'))\n",
    "    ax.set_xlabel(r'node index $j$')\n",
    "    ax.set_ylabel(r'$v^i_j$')\n",
    "    \n",
    "    # Add legend and remove background/frame\n",
    "    legend = fig.legend(ncols=3)\n",
    "    legend.get_frame().set_facecolor('none')  # Fully transparent background\n",
    "    legend.get_frame().set_edgecolor('none')  # No border\n",
    "    \n",
    "    # Adjust layout and save figure to file\n",
    "    fig.tight_layout()\n",
    "    fig.savefig(f'{filename}.pdf')\n",
    "    \n",
    "    # Optionally, return the sorted eigenvalues and eigenvectors\n",
    "    return fig\n",
    "\n",
    "# Example usage\n",
    "# plot_eigenvalues_vectors(K, 'FE_simple_bc')\n"
   ]
  },
  {
   "cell_type": "code",
   "execution_count": 8,
   "id": "d0e6e51b",
   "metadata": {},
   "outputs": [],
   "source": [
    "plot_eigenvalues_vectors(K_uc, 'FE_simple.pdf');"
   ]
  },
  {
   "cell_type": "code",
   "execution_count": 9,
   "id": "470f676d",
   "metadata": {},
   "outputs": [],
   "source": [
    "plot_eigenvalues_vectors(K, 'FE_simple_bc.pdf');"
   ]
  },
  {
   "cell_type": "code",
   "execution_count": null,
   "id": "bfb902c2",
   "metadata": {},
   "outputs": [],
   "source": [
    "F = np.zeros((5,1))\n",
    "F[-1] = 0.1"
   ]
  },
  {
   "cell_type": "code",
   "execution_count": null,
   "id": "9c558ab9",
   "metadata": {},
   "outputs": [],
   "source": [
    "u = np.linalg.solve(K,F)"
   ]
  },
  {
   "cell_type": "code",
   "execution_count": null,
   "id": "9b4aa2cb",
   "metadata": {},
   "outputs": [],
   "source": [
    "u"
   ]
  },
  {
   "cell_type": "code",
   "execution_count": null,
   "id": "4ae36189",
   "metadata": {},
   "outputs": [],
   "source": [
    "L = np.diag(sorted_eigvals)\n",
    "V = sorted_eigvecs\n",
    "Vi = np.linalg.inv(sorted_eigvecs)\n",
    "\n",
    "np.dot(V,np.dot(np.linalg.inv(L),np.dot(Vi,F)))"
   ]
  },
  {
   "cell_type": "code",
   "execution_count": null,
   "id": "4972c61a",
   "metadata": {},
   "outputs": [],
   "source": [
    "ev = V[:,0]\n",
    "sol=(np.dot(ev.T,F)/sorted_eigvals[0])[0,0]*ev\n"
   ]
  },
  {
   "cell_type": "markdown",
   "id": "cec06be6",
   "metadata": {},
   "source": [
    "Simple model reduction. Equivalent results, using different expressions."
   ]
  },
  {
   "cell_type": "code",
   "execution_count": null,
   "id": "072341f6",
   "metadata": {},
   "outputs": [],
   "source": [
    "fig, ax = plt.subplots(nrows=2)\n",
    "ax[0].plot(u,marker='o',color='black',lw=3,label='FE solution')\n",
    "for i in range(0,len(sorted_eigvals)):\n",
    "    max_modes = i+1\n",
    "    a = np.dot(V[:,0:max_modes],np.dot(np.linalg.inv(L[0:max_modes,0:max_modes]),np.dot(Vi[0:max_modes,:],F)))\n",
    "    ax[0].plot(a,marker='x',color='blue', alpha=i * 0.2+0.1, \n",
    "               label=r'$n_\\mathrm{trunc} = %i$' %(max_modes))\n",
    "    ax[1].plot(a-u,marker='x',color='blue', alpha=i * 0.2+0.1)\n",
    "\n",
    "    \n",
    "for i in range(2):\n",
    "    # Remove the frame (spines) and leave only left and bottom axes\n",
    "    ax[i].spines['top'].set_visible(False)\n",
    "    ax[i].spines['right'].set_visible(False)\n",
    "    ax[i].spines['left'].set_position('zero')\n",
    "    ax[i].spines['bottom'].set_position('zero')\n",
    "\n",
    "    # Set x-axis to integer values only\n",
    "    ax[i].set_xticks(range(len(sorted_eigvecs)))\n",
    "    ax[i].xaxis.set_major_formatter(plt.FuncFormatter(lambda x, _: f'{int(x)}'))\n",
    "    ax[i].set_xlabel('node index $j$')\n",
    "ax[0].set_ylabel(r'$u_j$ / $L$')\n",
    "ax[1].set_ylabel(r'$u_j - u_j^\\mathrm{FE}$ / $L$')\n",
    "legend=fig.legend(ncols=3)\n",
    "legend.get_frame().set_facecolor('none')  # Fully transparent background\n",
    "legend.get_frame().set_edgecolor('none')  # No border\n",
    "#tikzplotlib.save(\"FE_simple.tex\")\n",
    "fig.savefig('FE_modes.pdf')"
   ]
  },
  {
   "cell_type": "code",
   "execution_count": null,
   "id": "a69fad16",
   "metadata": {},
   "outputs": [],
   "source": [
    "ev = V[:,0]\n",
    "sol= u * 0\n",
    "\n",
    "fig, ax = plt.subplots(nrows=2)\n",
    "ax[0].plot(u,marker='o',color='black',lw=3,label='FE solution')\n",
    "for i in range(0,len(sorted_eigvals)):\n",
    "    max_modes = i+1\n",
    "    ev = V[:,i]\n",
    "    sol += (np.dot(ev.T,F)/sorted_eigvals[i])[0,0]*ev\n",
    "    ax[0].plot(sol,marker='x',color='blue', alpha=i * 0.2+0.1, \n",
    "               label=r'$n_\\mathrm{trunc} = %i$' %(max_modes))\n",
    "    ax[1].plot(sol-u,marker='x',color='blue', alpha=i * 0.2+0.1)\n",
    "\n",
    "    \n",
    "for i in range(2):\n",
    "    # Remove the frame (spines) and leave only left and bottom axes\n",
    "    ax[i].spines['top'].set_visible(False)\n",
    "    ax[i].spines['right'].set_visible(False)\n",
    "    ax[i].spines['left'].set_position('zero')\n",
    "    ax[i].spines['bottom'].set_position('zero')\n",
    "\n",
    "    # Set x-axis to integer values only\n",
    "    ax[i].set_xticks(range(len(sorted_eigvecs)))\n",
    "    ax[i].xaxis.set_major_formatter(plt.FuncFormatter(lambda x, _: f'{int(x)}'))\n",
    "    ax[i].set_xlabel('node index $j$')\n",
    "ax[0].set_ylabel(r'$u_j$ / $L$')\n",
    "ax[1].set_ylabel(r'$u_j - u_j^\\mathrm{FE}$ / $L$')\n",
    "legend=ax[0].legend(ncols=1,loc='lower right')\n",
    "legend.get_frame().set_facecolor('none')  # Fully transparent background\n",
    "legend.get_frame().set_edgecolor('none')  # No border\n",
    "#tikzplotlib.save(\"FE_simple.tex\")\n",
    "fig.tight_layout()\n",
    "fig.savefig('FE_modes.pdf')"
   ]
  }
 ],
 "metadata": {
  "kernelspec": {
   "display_name": "Python 3 (ipykernel)",
   "language": "python",
   "name": "python3"
  },
  "language_info": {
   "codemirror_mode": {
    "name": "ipython",
    "version": 3
   },
   "file_extension": ".py",
   "mimetype": "text/x-python",
   "name": "python",
   "nbconvert_exporter": "python",
   "pygments_lexer": "ipython3",
   "version": "3.11.4"
  }
 },
 "nbformat": 4,
 "nbformat_minor": 5
}
